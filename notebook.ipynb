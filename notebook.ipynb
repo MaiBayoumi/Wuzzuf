{
 "cells": [
  {
   "cell_type": "markdown",
   "metadata": {},
   "source": [
    "# Wuzzaf Scrapping Data for ITs jobs Full pages"
   ]
  },
  {
   "cell_type": "markdown",
   "metadata": {},
   "source": [
    "## import libraries"
   ]
  },
  {
   "cell_type": "code",
   "execution_count": 479,
   "metadata": {},
   "outputs": [],
   "source": [
    "from bs4 import BeautifulSoup as bs\n",
    "from urllib.request import urlopen\n",
    "import csv\n",
    "import pandas as pd \n",
    "from pandas import DataFrame\n",
    "import numpy as np\n",
    "import re\n",
    "import matplotlib.pyplot as plt\n",
    "%matplotlib inline\n",
    "import datetime as dt"
   ]
  },
  {
   "cell_type": "code",
   "execution_count": 3,
   "metadata": {},
   "outputs": [],
   "source": [
    "x=list(range(131))\n",
    "limit=2600\n",
    "keys=0\n",
    "urls=[]\n",
    "for i in x:\n",
    "    key=keys\n",
    "    y = str(key)\n",
    "    url='https://wuzzuf.net/a/IT-Software-Development-Jobs-in-Egypt?start='+y\n",
    "    urls.append(url)\n",
    "    #print(urls)\n",
    "    #print(url)\n",
    "    keys+=20\n",
    "    if key==limit:\n",
    "        break\n",
    "#print(urls[2])"
   ]
  },
  {
   "cell_type": "code",
   "execution_count": 4,
   "metadata": {},
   "outputs": [
    {
     "name": "stdout",
     "output_type": "stream",
     "text": [
      "https://wuzzuf.net/a/IT-Software-Development-Jobs-in-Egypt?start=0\n",
      "https://wuzzuf.net/a/IT-Software-Development-Jobs-in-Egypt?start=20\n",
      "https://wuzzuf.net/a/IT-Software-Development-Jobs-in-Egypt?start=40\n",
      "https://wuzzuf.net/a/IT-Software-Development-Jobs-in-Egypt?start=60\n",
      "https://wuzzuf.net/a/IT-Software-Development-Jobs-in-Egypt?start=80\n",
      "https://wuzzuf.net/a/IT-Software-Development-Jobs-in-Egypt?start=100\n",
      "https://wuzzuf.net/a/IT-Software-Development-Jobs-in-Egypt?start=120\n",
      "https://wuzzuf.net/a/IT-Software-Development-Jobs-in-Egypt?start=140\n",
      "https://wuzzuf.net/a/IT-Software-Development-Jobs-in-Egypt?start=160\n",
      "https://wuzzuf.net/a/IT-Software-Development-Jobs-in-Egypt?start=180\n",
      "https://wuzzuf.net/a/IT-Software-Development-Jobs-in-Egypt?start=200\n",
      "https://wuzzuf.net/a/IT-Software-Development-Jobs-in-Egypt?start=220\n",
      "https://wuzzuf.net/a/IT-Software-Development-Jobs-in-Egypt?start=240\n",
      "https://wuzzuf.net/a/IT-Software-Development-Jobs-in-Egypt?start=260\n",
      "https://wuzzuf.net/a/IT-Software-Development-Jobs-in-Egypt?start=280\n",
      "https://wuzzuf.net/a/IT-Software-Development-Jobs-in-Egypt?start=300\n",
      "https://wuzzuf.net/a/IT-Software-Development-Jobs-in-Egypt?start=320\n",
      "https://wuzzuf.net/a/IT-Software-Development-Jobs-in-Egypt?start=340\n",
      "https://wuzzuf.net/a/IT-Software-Development-Jobs-in-Egypt?start=360\n",
      "https://wuzzuf.net/a/IT-Software-Development-Jobs-in-Egypt?start=380\n",
      "https://wuzzuf.net/a/IT-Software-Development-Jobs-in-Egypt?start=400\n",
      "https://wuzzuf.net/a/IT-Software-Development-Jobs-in-Egypt?start=420\n",
      "https://wuzzuf.net/a/IT-Software-Development-Jobs-in-Egypt?start=440\n",
      "https://wuzzuf.net/a/IT-Software-Development-Jobs-in-Egypt?start=460\n",
      "https://wuzzuf.net/a/IT-Software-Development-Jobs-in-Egypt?start=480\n",
      "https://wuzzuf.net/a/IT-Software-Development-Jobs-in-Egypt?start=500\n",
      "https://wuzzuf.net/a/IT-Software-Development-Jobs-in-Egypt?start=520\n",
      "https://wuzzuf.net/a/IT-Software-Development-Jobs-in-Egypt?start=540\n",
      "https://wuzzuf.net/a/IT-Software-Development-Jobs-in-Egypt?start=560\n",
      "https://wuzzuf.net/a/IT-Software-Development-Jobs-in-Egypt?start=580\n",
      "https://wuzzuf.net/a/IT-Software-Development-Jobs-in-Egypt?start=600\n",
      "https://wuzzuf.net/a/IT-Software-Development-Jobs-in-Egypt?start=620\n",
      "https://wuzzuf.net/a/IT-Software-Development-Jobs-in-Egypt?start=640\n",
      "https://wuzzuf.net/a/IT-Software-Development-Jobs-in-Egypt?start=660\n",
      "https://wuzzuf.net/a/IT-Software-Development-Jobs-in-Egypt?start=680\n",
      "https://wuzzuf.net/a/IT-Software-Development-Jobs-in-Egypt?start=700\n",
      "https://wuzzuf.net/a/IT-Software-Development-Jobs-in-Egypt?start=720\n",
      "https://wuzzuf.net/a/IT-Software-Development-Jobs-in-Egypt?start=740\n",
      "https://wuzzuf.net/a/IT-Software-Development-Jobs-in-Egypt?start=760\n",
      "https://wuzzuf.net/a/IT-Software-Development-Jobs-in-Egypt?start=780\n",
      "https://wuzzuf.net/a/IT-Software-Development-Jobs-in-Egypt?start=800\n",
      "https://wuzzuf.net/a/IT-Software-Development-Jobs-in-Egypt?start=820\n",
      "https://wuzzuf.net/a/IT-Software-Development-Jobs-in-Egypt?start=840\n",
      "https://wuzzuf.net/a/IT-Software-Development-Jobs-in-Egypt?start=860\n",
      "https://wuzzuf.net/a/IT-Software-Development-Jobs-in-Egypt?start=880\n",
      "https://wuzzuf.net/a/IT-Software-Development-Jobs-in-Egypt?start=900\n",
      "https://wuzzuf.net/a/IT-Software-Development-Jobs-in-Egypt?start=920\n",
      "https://wuzzuf.net/a/IT-Software-Development-Jobs-in-Egypt?start=940\n",
      "https://wuzzuf.net/a/IT-Software-Development-Jobs-in-Egypt?start=960\n",
      "https://wuzzuf.net/a/IT-Software-Development-Jobs-in-Egypt?start=980\n",
      "https://wuzzuf.net/a/IT-Software-Development-Jobs-in-Egypt?start=1000\n",
      "https://wuzzuf.net/a/IT-Software-Development-Jobs-in-Egypt?start=1020\n",
      "https://wuzzuf.net/a/IT-Software-Development-Jobs-in-Egypt?start=1040\n",
      "https://wuzzuf.net/a/IT-Software-Development-Jobs-in-Egypt?start=1060\n",
      "https://wuzzuf.net/a/IT-Software-Development-Jobs-in-Egypt?start=1080\n",
      "https://wuzzuf.net/a/IT-Software-Development-Jobs-in-Egypt?start=1100\n",
      "https://wuzzuf.net/a/IT-Software-Development-Jobs-in-Egypt?start=1120\n",
      "https://wuzzuf.net/a/IT-Software-Development-Jobs-in-Egypt?start=1140\n",
      "https://wuzzuf.net/a/IT-Software-Development-Jobs-in-Egypt?start=1160\n",
      "https://wuzzuf.net/a/IT-Software-Development-Jobs-in-Egypt?start=1180\n",
      "https://wuzzuf.net/a/IT-Software-Development-Jobs-in-Egypt?start=1200\n",
      "https://wuzzuf.net/a/IT-Software-Development-Jobs-in-Egypt?start=1220\n",
      "https://wuzzuf.net/a/IT-Software-Development-Jobs-in-Egypt?start=1240\n",
      "https://wuzzuf.net/a/IT-Software-Development-Jobs-in-Egypt?start=1260\n",
      "https://wuzzuf.net/a/IT-Software-Development-Jobs-in-Egypt?start=1280\n",
      "https://wuzzuf.net/a/IT-Software-Development-Jobs-in-Egypt?start=1300\n",
      "https://wuzzuf.net/a/IT-Software-Development-Jobs-in-Egypt?start=1320\n",
      "https://wuzzuf.net/a/IT-Software-Development-Jobs-in-Egypt?start=1340\n",
      "https://wuzzuf.net/a/IT-Software-Development-Jobs-in-Egypt?start=1360\n",
      "https://wuzzuf.net/a/IT-Software-Development-Jobs-in-Egypt?start=1380\n",
      "https://wuzzuf.net/a/IT-Software-Development-Jobs-in-Egypt?start=1400\n",
      "https://wuzzuf.net/a/IT-Software-Development-Jobs-in-Egypt?start=1420\n",
      "https://wuzzuf.net/a/IT-Software-Development-Jobs-in-Egypt?start=1440\n",
      "https://wuzzuf.net/a/IT-Software-Development-Jobs-in-Egypt?start=1460\n",
      "https://wuzzuf.net/a/IT-Software-Development-Jobs-in-Egypt?start=1480\n",
      "https://wuzzuf.net/a/IT-Software-Development-Jobs-in-Egypt?start=1500\n",
      "https://wuzzuf.net/a/IT-Software-Development-Jobs-in-Egypt?start=1520\n",
      "https://wuzzuf.net/a/IT-Software-Development-Jobs-in-Egypt?start=1540\n",
      "https://wuzzuf.net/a/IT-Software-Development-Jobs-in-Egypt?start=1560\n",
      "https://wuzzuf.net/a/IT-Software-Development-Jobs-in-Egypt?start=1580\n",
      "https://wuzzuf.net/a/IT-Software-Development-Jobs-in-Egypt?start=1600\n",
      "https://wuzzuf.net/a/IT-Software-Development-Jobs-in-Egypt?start=1620\n",
      "https://wuzzuf.net/a/IT-Software-Development-Jobs-in-Egypt?start=1640\n",
      "https://wuzzuf.net/a/IT-Software-Development-Jobs-in-Egypt?start=1660\n",
      "https://wuzzuf.net/a/IT-Software-Development-Jobs-in-Egypt?start=1680\n",
      "https://wuzzuf.net/a/IT-Software-Development-Jobs-in-Egypt?start=1700\n",
      "https://wuzzuf.net/a/IT-Software-Development-Jobs-in-Egypt?start=1720\n",
      "https://wuzzuf.net/a/IT-Software-Development-Jobs-in-Egypt?start=1740\n",
      "https://wuzzuf.net/a/IT-Software-Development-Jobs-in-Egypt?start=1760\n",
      "https://wuzzuf.net/a/IT-Software-Development-Jobs-in-Egypt?start=1780\n",
      "https://wuzzuf.net/a/IT-Software-Development-Jobs-in-Egypt?start=1800\n",
      "https://wuzzuf.net/a/IT-Software-Development-Jobs-in-Egypt?start=1820\n",
      "https://wuzzuf.net/a/IT-Software-Development-Jobs-in-Egypt?start=1840\n",
      "https://wuzzuf.net/a/IT-Software-Development-Jobs-in-Egypt?start=1860\n",
      "https://wuzzuf.net/a/IT-Software-Development-Jobs-in-Egypt?start=1880\n",
      "https://wuzzuf.net/a/IT-Software-Development-Jobs-in-Egypt?start=1900\n",
      "https://wuzzuf.net/a/IT-Software-Development-Jobs-in-Egypt?start=1920\n",
      "https://wuzzuf.net/a/IT-Software-Development-Jobs-in-Egypt?start=1940\n",
      "https://wuzzuf.net/a/IT-Software-Development-Jobs-in-Egypt?start=1960\n",
      "https://wuzzuf.net/a/IT-Software-Development-Jobs-in-Egypt?start=1980\n",
      "https://wuzzuf.net/a/IT-Software-Development-Jobs-in-Egypt?start=2000\n",
      "https://wuzzuf.net/a/IT-Software-Development-Jobs-in-Egypt?start=2020\n",
      "https://wuzzuf.net/a/IT-Software-Development-Jobs-in-Egypt?start=2040\n",
      "https://wuzzuf.net/a/IT-Software-Development-Jobs-in-Egypt?start=2060\n",
      "https://wuzzuf.net/a/IT-Software-Development-Jobs-in-Egypt?start=2080\n",
      "https://wuzzuf.net/a/IT-Software-Development-Jobs-in-Egypt?start=2100\n",
      "https://wuzzuf.net/a/IT-Software-Development-Jobs-in-Egypt?start=2120\n",
      "https://wuzzuf.net/a/IT-Software-Development-Jobs-in-Egypt?start=2140\n",
      "https://wuzzuf.net/a/IT-Software-Development-Jobs-in-Egypt?start=2160\n",
      "https://wuzzuf.net/a/IT-Software-Development-Jobs-in-Egypt?start=2180\n",
      "https://wuzzuf.net/a/IT-Software-Development-Jobs-in-Egypt?start=2200\n",
      "https://wuzzuf.net/a/IT-Software-Development-Jobs-in-Egypt?start=2220\n",
      "https://wuzzuf.net/a/IT-Software-Development-Jobs-in-Egypt?start=2240\n",
      "https://wuzzuf.net/a/IT-Software-Development-Jobs-in-Egypt?start=2260\n",
      "https://wuzzuf.net/a/IT-Software-Development-Jobs-in-Egypt?start=2280\n",
      "https://wuzzuf.net/a/IT-Software-Development-Jobs-in-Egypt?start=2300\n",
      "https://wuzzuf.net/a/IT-Software-Development-Jobs-in-Egypt?start=2320\n",
      "https://wuzzuf.net/a/IT-Software-Development-Jobs-in-Egypt?start=2340\n",
      "https://wuzzuf.net/a/IT-Software-Development-Jobs-in-Egypt?start=2360\n",
      "https://wuzzuf.net/a/IT-Software-Development-Jobs-in-Egypt?start=2380\n",
      "https://wuzzuf.net/a/IT-Software-Development-Jobs-in-Egypt?start=2400\n",
      "https://wuzzuf.net/a/IT-Software-Development-Jobs-in-Egypt?start=2420\n",
      "https://wuzzuf.net/a/IT-Software-Development-Jobs-in-Egypt?start=2440\n",
      "https://wuzzuf.net/a/IT-Software-Development-Jobs-in-Egypt?start=2460\n",
      "https://wuzzuf.net/a/IT-Software-Development-Jobs-in-Egypt?start=2480\n",
      "https://wuzzuf.net/a/IT-Software-Development-Jobs-in-Egypt?start=2500\n",
      "https://wuzzuf.net/a/IT-Software-Development-Jobs-in-Egypt?start=2520\n",
      "https://wuzzuf.net/a/IT-Software-Development-Jobs-in-Egypt?start=2540\n",
      "https://wuzzuf.net/a/IT-Software-Development-Jobs-in-Egypt?start=2560\n",
      "https://wuzzuf.net/a/IT-Software-Development-Jobs-in-Egypt?start=2580\n",
      "https://wuzzuf.net/a/IT-Software-Development-Jobs-in-Egypt?start=2600\n"
     ]
    }
   ],
   "source": [
    "f= open(\"ًwuzzaf10_8_2021.csv\",\"w\",encoding='utf-8')\n",
    "header = \"wow\\n\"\n",
    "f.write(header) \n",
    "for url in urls:\n",
    "    print(url)    \n",
    "    client=urlopen(url)\n",
    "    html= client.read()\n",
    "    client.close()\n",
    "    soup = bs(html,\"html.parser\")\n",
    "    containers = soup.find_all(\"div\",{\"class\":\"result-wrp row\"}) \n",
    "    for container in containers:\n",
    "    \n",
    "        job_job = container.findAll(\"h2\",{\"class\":\"job-title\"})\n",
    "        job_title = job_job[0].text.strip()    \n",
    "        \n",
    "        company_name = container.findAll(\"span\",{\"class\":\"company-name\"})\n",
    "        company_names = company_name[0].text.strip()     \n",
    "                \n",
    "        job_type = container.findAll(\"div\",{\"class\":\"job-details\"})\n",
    "        job_description = job_type[0].text.strip()\n",
    "        job_description = ' '.join(job_description.split())\n",
    "        \n",
    "        company_location=container.findAll(\"span\",{\"class\":\"location location-desktop\"})\n",
    "        company_locations = company_location[0].text.strip() \n",
    "        \n",
    "        f.write(job_title + \"%\" + company_names + \"%\" + company_locations + \"%\" + job_description + \"\\n\")    \n",
    "        \n",
    "f.close()"
   ]
  },
  {
   "cell_type": "code",
   "execution_count": 490,
   "metadata": {},
   "outputs": [
    {
     "name": "stderr",
     "output_type": "stream",
     "text": [
      "<ipython-input-490-b65a65447a05>:2: ParserWarning: Falling back to the 'python' engine because the 'c' engine does not support regex separators (separators > 1 char and different from '\\s+' are interpreted as regex); you can avoid this warning by specifying engine='python'.\n",
      "  df21 = pd.read_csv(\"ًwuzzaf10_8_2021.csv\", sep='delimiter')\n"
     ]
    }
   ],
   "source": [
    "import pandas as pd \n",
    "df21 = pd.read_csv(\"ًwuzzaf10_8_2021.csv\", sep='delimiter')"
   ]
  },
  {
   "cell_type": "code",
   "execution_count": 491,
   "metadata": {},
   "outputs": [
    {
     "data": {
      "text/plain": [
       "Index(['wow'], dtype='object')"
      ]
     },
     "execution_count": 491,
     "metadata": {},
     "output_type": "execute_result"
    }
   ],
   "source": [
    "# check columns name\n",
    "df21.columns"
   ]
  },
  {
   "cell_type": "code",
   "execution_count": 492,
   "metadata": {},
   "outputs": [
    {
     "data": {
      "text/html": [
       "<div>\n",
       "<style scoped>\n",
       "    .dataframe tbody tr th:only-of-type {\n",
       "        vertical-align: middle;\n",
       "    }\n",
       "\n",
       "    .dataframe tbody tr th {\n",
       "        vertical-align: top;\n",
       "    }\n",
       "\n",
       "    .dataframe thead th {\n",
       "        text-align: right;\n",
       "    }\n",
       "</style>\n",
       "<table border=\"1\" class=\"dataframe\">\n",
       "  <thead>\n",
       "    <tr style=\"text-align: right;\">\n",
       "      <th></th>\n",
       "      <th>wow</th>\n",
       "    </tr>\n",
       "  </thead>\n",
       "  <tbody>\n",
       "    <tr>\n",
       "      <th>0</th>\n",
       "      <td>Business Development Specialist - Upper Egypt%...</td>\n",
       "    </tr>\n",
       "    <tr>\n",
       "      <th>1</th>\n",
       "      <td>Senior/Intermediate .NET Core Developer (Remot...</td>\n",
       "    </tr>\n",
       "    <tr>\n",
       "      <th>2</th>\n",
       "      <td>Senior Software Developer%Bnsights%- New Cairo...</td>\n",
       "    </tr>\n",
       "    <tr>\n",
       "      <th>3</th>\n",
       "      <td>Software Developer / Desktop Development%ITS%-...</td>\n",
       "    </tr>\n",
       "    <tr>\n",
       "      <th>4</th>\n",
       "      <td>Senior Software Developer -Dynamics 365...%Cro...</td>\n",
       "    </tr>\n",
       "    <tr>\n",
       "      <th>...</th>\n",
       "      <td>...</td>\n",
       "    </tr>\n",
       "    <tr>\n",
       "      <th>2615</th>\n",
       "      <td>Robotics Teacher/Co-Teacher - Kids%Robokids%- ...</td>\n",
       "    </tr>\n",
       "    <tr>\n",
       "      <th>2616</th>\n",
       "      <td>Fixed Shift- English Technical Support Agent%S...</td>\n",
       "    </tr>\n",
       "    <tr>\n",
       "      <th>2617</th>\n",
       "      <td>Storage, Backup and Virtualization Consultant%...</td>\n",
       "    </tr>\n",
       "    <tr>\n",
       "      <th>2618</th>\n",
       "      <td>XD Designer%RMG%- New Cairo, Cairo%Part Time Â...</td>\n",
       "    </tr>\n",
       "    <tr>\n",
       "      <th>2619</th>\n",
       "      <td>Instructor CND &amp; CEH &amp; CPENT%New Horizons%- Ca...</td>\n",
       "    </tr>\n",
       "  </tbody>\n",
       "</table>\n",
       "<p>2620 rows × 1 columns</p>\n",
       "</div>"
      ],
      "text/plain": [
       "                                                    wow\n",
       "0     Business Development Specialist - Upper Egypt%...\n",
       "1     Senior/Intermediate .NET Core Developer (Remot...\n",
       "2     Senior Software Developer%Bnsights%- New Cairo...\n",
       "3     Software Developer / Desktop Development%ITS%-...\n",
       "4     Senior Software Developer -Dynamics 365...%Cro...\n",
       "...                                                 ...\n",
       "2615  Robotics Teacher/Co-Teacher - Kids%Robokids%- ...\n",
       "2616  Fixed Shift- English Technical Support Agent%S...\n",
       "2617  Storage, Backup and Virtualization Consultant%...\n",
       "2618  XD Designer%RMG%- New Cairo, Cairo%Part Time Â...\n",
       "2619  Instructor CND & CEH & CPENT%New Horizons%- Ca...\n",
       "\n",
       "[2620 rows x 1 columns]"
      ]
     },
     "execution_count": 492,
     "metadata": {},
     "output_type": "execute_result"
    }
   ],
   "source": [
    "# check data\n",
    "df21"
   ]
  },
  {
   "cell_type": "code",
   "execution_count": 493,
   "metadata": {},
   "outputs": [],
   "source": [
    "# split the data with the symbol we have created before\n",
    "df21 = df21['wow'].str.split('%',expand = True)"
   ]
  },
  {
   "cell_type": "code",
   "execution_count": 494,
   "metadata": {
    "scrolled": false
   },
   "outputs": [
    {
     "data": {
      "text/html": [
       "<div>\n",
       "<style scoped>\n",
       "    .dataframe tbody tr th:only-of-type {\n",
       "        vertical-align: middle;\n",
       "    }\n",
       "\n",
       "    .dataframe tbody tr th {\n",
       "        vertical-align: top;\n",
       "    }\n",
       "\n",
       "    .dataframe thead th {\n",
       "        text-align: right;\n",
       "    }\n",
       "</style>\n",
       "<table border=\"1\" class=\"dataframe\">\n",
       "  <thead>\n",
       "    <tr style=\"text-align: right;\">\n",
       "      <th></th>\n",
       "      <th>0</th>\n",
       "      <th>1</th>\n",
       "      <th>2</th>\n",
       "      <th>3</th>\n",
       "    </tr>\n",
       "  </thead>\n",
       "  <tbody>\n",
       "    <tr>\n",
       "      <th>0</th>\n",
       "      <td>Business Development Specialist - Upper Egypt</td>\n",
       "      <td>golden</td>\n",
       "      <td>- Aswan, Egypt</td>\n",
       "      <td>Full Time Â· Experienced Â· 2+ Yrs of Exp Â· B...</td>\n",
       "    </tr>\n",
       "    <tr>\n",
       "      <th>1</th>\n",
       "      <td>Senior/Intermediate .NET Core Developer (Remot...</td>\n",
       "      <td>Confidential</td>\n",
       "      <td>- Cairo, Egypt</td>\n",
       "      <td>Full Time Â· Experienced Â· 4+ Yrs of Exp Â· S...</td>\n",
       "    </tr>\n",
       "    <tr>\n",
       "      <th>2</th>\n",
       "      <td>Senior Software Developer</td>\n",
       "      <td>Bnsights</td>\n",
       "      <td>- New Cairo, Cairo</td>\n",
       "      <td>Full Time Â· Experienced Â· 6-10 Yrs of Exp Â·...</td>\n",
       "    </tr>\n",
       "    <tr>\n",
       "      <th>3</th>\n",
       "      <td>Software Developer / Desktop Development</td>\n",
       "      <td>ITS</td>\n",
       "      <td>- Nasr City, Cairo</td>\n",
       "      <td>Full Time Â· Entry Level Â· 0-2 Yrs of Exp Â· ...</td>\n",
       "    </tr>\n",
       "    <tr>\n",
       "      <th>4</th>\n",
       "      <td>Senior Software Developer -Dynamics 365...</td>\n",
       "      <td>CrossWorkers</td>\n",
       "      <td>- New Cairo, Cairo</td>\n",
       "      <td>Full Time Â· Experienced Â· 4-12 Yrs of Exp Â·...</td>\n",
       "    </tr>\n",
       "    <tr>\n",
       "      <th>...</th>\n",
       "      <td>...</td>\n",
       "      <td>...</td>\n",
       "      <td>...</td>\n",
       "      <td>...</td>\n",
       "    </tr>\n",
       "    <tr>\n",
       "      <th>2615</th>\n",
       "      <td>Robotics Teacher/Co-Teacher - Kids</td>\n",
       "      <td>Robokids</td>\n",
       "      <td>- New Cairo, Cairo</td>\n",
       "      <td>Part Time Â· Entry Level Â· 0-2 Yrs of Exp Â· ...</td>\n",
       "    </tr>\n",
       "    <tr>\n",
       "      <th>2616</th>\n",
       "      <td>Fixed Shift- English Technical Support Agent</td>\n",
       "      <td>Sykes Enterprises</td>\n",
       "      <td>- Maadi, Cairo</td>\n",
       "      <td>Full Time Â· Entry Level Â· 1-4 Yrs of Exp Â· ...</td>\n",
       "    </tr>\n",
       "    <tr>\n",
       "      <th>2617</th>\n",
       "      <td>Storage, Backup and Virtualization Consultant</td>\n",
       "      <td>Global Brands</td>\n",
       "      <td>- New Cairo, Cairo</td>\n",
       "      <td>Full Time Â· Experienced Â· 3+ Yrs of Exp Â· C...</td>\n",
       "    </tr>\n",
       "    <tr>\n",
       "      <th>2618</th>\n",
       "      <td>XD Designer</td>\n",
       "      <td>RMG</td>\n",
       "      <td>- New Cairo, Cairo</td>\n",
       "      <td>Part Time Â· Experienced Â· 5-7 Yrs of Exp Â· ...</td>\n",
       "    </tr>\n",
       "    <tr>\n",
       "      <th>2619</th>\n",
       "      <td>Instructor CND &amp; CEH &amp; CPENT</td>\n",
       "      <td>New Horizons</td>\n",
       "      <td>- Cairo, Egypt</td>\n",
       "      <td>Part Time Â· Experienced Â· 2-5 Yrs of Exp Â· ...</td>\n",
       "    </tr>\n",
       "  </tbody>\n",
       "</table>\n",
       "<p>2620 rows × 4 columns</p>\n",
       "</div>"
      ],
      "text/plain": [
       "                                                      0                  1  \\\n",
       "0         Business Development Specialist - Upper Egypt             golden   \n",
       "1     Senior/Intermediate .NET Core Developer (Remot...       Confidential   \n",
       "2                             Senior Software Developer           Bnsights   \n",
       "3              Software Developer / Desktop Development                ITS   \n",
       "4            Senior Software Developer -Dynamics 365...       CrossWorkers   \n",
       "...                                                 ...                ...   \n",
       "2615                 Robotics Teacher/Co-Teacher - Kids           Robokids   \n",
       "2616       Fixed Shift- English Technical Support Agent  Sykes Enterprises   \n",
       "2617      Storage, Backup and Virtualization Consultant      Global Brands   \n",
       "2618                                        XD Designer                RMG   \n",
       "2619                       Instructor CND & CEH & CPENT       New Horizons   \n",
       "\n",
       "                       2                                                  3  \n",
       "0         - Aswan, Egypt  Full Time Â· Experienced Â· 2+ Yrs of Exp Â· B...  \n",
       "1         - Cairo, Egypt  Full Time Â· Experienced Â· 4+ Yrs of Exp Â· S...  \n",
       "2     - New Cairo, Cairo  Full Time Â· Experienced Â· 6-10 Yrs of Exp Â·...  \n",
       "3     - Nasr City, Cairo  Full Time Â· Entry Level Â· 0-2 Yrs of Exp Â· ...  \n",
       "4     - New Cairo, Cairo  Full Time Â· Experienced Â· 4-12 Yrs of Exp Â·...  \n",
       "...                  ...                                                ...  \n",
       "2615  - New Cairo, Cairo  Part Time Â· Entry Level Â· 0-2 Yrs of Exp Â· ...  \n",
       "2616      - Maadi, Cairo  Full Time Â· Entry Level Â· 1-4 Yrs of Exp Â· ...  \n",
       "2617  - New Cairo, Cairo  Full Time Â· Experienced Â· 3+ Yrs of Exp Â· C...  \n",
       "2618  - New Cairo, Cairo  Part Time Â· Experienced Â· 5-7 Yrs of Exp Â· ...  \n",
       "2619      - Cairo, Egypt  Part Time Â· Experienced Â· 2-5 Yrs of Exp Â· ...  \n",
       "\n",
       "[2620 rows x 4 columns]"
      ]
     },
     "execution_count": 494,
     "metadata": {},
     "output_type": "execute_result"
    }
   ],
   "source": [
    "# check data again\n",
    "df21"
   ]
  },
  {
   "cell_type": "code",
   "execution_count": 495,
   "metadata": {},
   "outputs": [],
   "source": [
    "df21 = df21.rename(columns={0: 'job_title'})\n",
    "df21 = df21.rename(columns={1: 'company_names'})\n",
    "df21 = df21.rename(columns={2: 'company_locations'})\n",
    "df21 = df21.rename(columns={3: 'job_description'})"
   ]
  },
  {
   "cell_type": "code",
   "execution_count": 496,
   "metadata": {},
   "outputs": [
    {
     "data": {
      "text/html": [
       "<div>\n",
       "<style scoped>\n",
       "    .dataframe tbody tr th:only-of-type {\n",
       "        vertical-align: middle;\n",
       "    }\n",
       "\n",
       "    .dataframe tbody tr th {\n",
       "        vertical-align: top;\n",
       "    }\n",
       "\n",
       "    .dataframe thead th {\n",
       "        text-align: right;\n",
       "    }\n",
       "</style>\n",
       "<table border=\"1\" class=\"dataframe\">\n",
       "  <thead>\n",
       "    <tr style=\"text-align: right;\">\n",
       "      <th></th>\n",
       "      <th>job_title</th>\n",
       "      <th>company_names</th>\n",
       "      <th>company_locations</th>\n",
       "      <th>job_description</th>\n",
       "    </tr>\n",
       "  </thead>\n",
       "  <tbody>\n",
       "    <tr>\n",
       "      <th>0</th>\n",
       "      <td>Business Development Specialist - Upper Egypt</td>\n",
       "      <td>golden</td>\n",
       "      <td>- Aswan, Egypt</td>\n",
       "      <td>Full Time Â· Experienced Â· 2+ Yrs of Exp Â· B...</td>\n",
       "    </tr>\n",
       "    <tr>\n",
       "      <th>1</th>\n",
       "      <td>Senior/Intermediate .NET Core Developer (Remot...</td>\n",
       "      <td>Confidential</td>\n",
       "      <td>- Cairo, Egypt</td>\n",
       "      <td>Full Time Â· Experienced Â· 4+ Yrs of Exp Â· S...</td>\n",
       "    </tr>\n",
       "    <tr>\n",
       "      <th>2</th>\n",
       "      <td>Senior Software Developer</td>\n",
       "      <td>Bnsights</td>\n",
       "      <td>- New Cairo, Cairo</td>\n",
       "      <td>Full Time Â· Experienced Â· 6-10 Yrs of Exp Â·...</td>\n",
       "    </tr>\n",
       "    <tr>\n",
       "      <th>3</th>\n",
       "      <td>Software Developer / Desktop Development</td>\n",
       "      <td>ITS</td>\n",
       "      <td>- Nasr City, Cairo</td>\n",
       "      <td>Full Time Â· Entry Level Â· 0-2 Yrs of Exp Â· ...</td>\n",
       "    </tr>\n",
       "    <tr>\n",
       "      <th>4</th>\n",
       "      <td>Senior Software Developer -Dynamics 365...</td>\n",
       "      <td>CrossWorkers</td>\n",
       "      <td>- New Cairo, Cairo</td>\n",
       "      <td>Full Time Â· Experienced Â· 4-12 Yrs of Exp Â·...</td>\n",
       "    </tr>\n",
       "    <tr>\n",
       "      <th>...</th>\n",
       "      <td>...</td>\n",
       "      <td>...</td>\n",
       "      <td>...</td>\n",
       "      <td>...</td>\n",
       "    </tr>\n",
       "    <tr>\n",
       "      <th>2615</th>\n",
       "      <td>Robotics Teacher/Co-Teacher - Kids</td>\n",
       "      <td>Robokids</td>\n",
       "      <td>- New Cairo, Cairo</td>\n",
       "      <td>Part Time Â· Entry Level Â· 0-2 Yrs of Exp Â· ...</td>\n",
       "    </tr>\n",
       "    <tr>\n",
       "      <th>2616</th>\n",
       "      <td>Fixed Shift- English Technical Support Agent</td>\n",
       "      <td>Sykes Enterprises</td>\n",
       "      <td>- Maadi, Cairo</td>\n",
       "      <td>Full Time Â· Entry Level Â· 1-4 Yrs of Exp Â· ...</td>\n",
       "    </tr>\n",
       "    <tr>\n",
       "      <th>2617</th>\n",
       "      <td>Storage, Backup and Virtualization Consultant</td>\n",
       "      <td>Global Brands</td>\n",
       "      <td>- New Cairo, Cairo</td>\n",
       "      <td>Full Time Â· Experienced Â· 3+ Yrs of Exp Â· C...</td>\n",
       "    </tr>\n",
       "    <tr>\n",
       "      <th>2618</th>\n",
       "      <td>XD Designer</td>\n",
       "      <td>RMG</td>\n",
       "      <td>- New Cairo, Cairo</td>\n",
       "      <td>Part Time Â· Experienced Â· 5-7 Yrs of Exp Â· ...</td>\n",
       "    </tr>\n",
       "    <tr>\n",
       "      <th>2619</th>\n",
       "      <td>Instructor CND &amp; CEH &amp; CPENT</td>\n",
       "      <td>New Horizons</td>\n",
       "      <td>- Cairo, Egypt</td>\n",
       "      <td>Part Time Â· Experienced Â· 2-5 Yrs of Exp Â· ...</td>\n",
       "    </tr>\n",
       "  </tbody>\n",
       "</table>\n",
       "<p>2620 rows × 4 columns</p>\n",
       "</div>"
      ],
      "text/plain": [
       "                                              job_title      company_names  \\\n",
       "0         Business Development Specialist - Upper Egypt             golden   \n",
       "1     Senior/Intermediate .NET Core Developer (Remot...       Confidential   \n",
       "2                             Senior Software Developer           Bnsights   \n",
       "3              Software Developer / Desktop Development                ITS   \n",
       "4            Senior Software Developer -Dynamics 365...       CrossWorkers   \n",
       "...                                                 ...                ...   \n",
       "2615                 Robotics Teacher/Co-Teacher - Kids           Robokids   \n",
       "2616       Fixed Shift- English Technical Support Agent  Sykes Enterprises   \n",
       "2617      Storage, Backup and Virtualization Consultant      Global Brands   \n",
       "2618                                        XD Designer                RMG   \n",
       "2619                       Instructor CND & CEH & CPENT       New Horizons   \n",
       "\n",
       "       company_locations                                    job_description  \n",
       "0         - Aswan, Egypt  Full Time Â· Experienced Â· 2+ Yrs of Exp Â· B...  \n",
       "1         - Cairo, Egypt  Full Time Â· Experienced Â· 4+ Yrs of Exp Â· S...  \n",
       "2     - New Cairo, Cairo  Full Time Â· Experienced Â· 6-10 Yrs of Exp Â·...  \n",
       "3     - Nasr City, Cairo  Full Time Â· Entry Level Â· 0-2 Yrs of Exp Â· ...  \n",
       "4     - New Cairo, Cairo  Full Time Â· Experienced Â· 4-12 Yrs of Exp Â·...  \n",
       "...                  ...                                                ...  \n",
       "2615  - New Cairo, Cairo  Part Time Â· Entry Level Â· 0-2 Yrs of Exp Â· ...  \n",
       "2616      - Maadi, Cairo  Full Time Â· Entry Level Â· 1-4 Yrs of Exp Â· ...  \n",
       "2617  - New Cairo, Cairo  Full Time Â· Experienced Â· 3+ Yrs of Exp Â· C...  \n",
       "2618  - New Cairo, Cairo  Part Time Â· Experienced Â· 5-7 Yrs of Exp Â· ...  \n",
       "2619      - Cairo, Egypt  Part Time Â· Experienced Â· 2-5 Yrs of Exp Â· ...  \n",
       "\n",
       "[2620 rows x 4 columns]"
      ]
     },
     "execution_count": 496,
     "metadata": {},
     "output_type": "execute_result"
    }
   ],
   "source": [
    "df21"
   ]
  },
  {
   "cell_type": "code",
   "execution_count": 497,
   "metadata": {},
   "outputs": [],
   "source": [
    "df20 = pd.read_csv(\"wuzzaf_2020.csv\")\n",
    "df1416 = pd.read_csv(\"Wuzzuf14-16.csv\")"
   ]
  },
  {
   "cell_type": "code",
   "execution_count": 498,
   "metadata": {},
   "outputs": [
    {
     "data": {
      "text/html": [
       "<div>\n",
       "<style scoped>\n",
       "    .dataframe tbody tr th:only-of-type {\n",
       "        vertical-align: middle;\n",
       "    }\n",
       "\n",
       "    .dataframe tbody tr th {\n",
       "        vertical-align: top;\n",
       "    }\n",
       "\n",
       "    .dataframe thead th {\n",
       "        text-align: right;\n",
       "    }\n",
       "</style>\n",
       "<table border=\"1\" class=\"dataframe\">\n",
       "  <thead>\n",
       "    <tr style=\"text-align: right;\">\n",
       "      <th></th>\n",
       "      <th>#PAGE_URL</th>\n",
       "      <th>title</th>\n",
       "      <th>company-name</th>\n",
       "      <th>job-link</th>\n",
       "      <th>job-link_link</th>\n",
       "      <th>short-description-</th>\n",
       "      <th>location</th>\n",
       "    </tr>\n",
       "  </thead>\n",
       "  <tbody>\n",
       "    <tr>\n",
       "      <th>0</th>\n",
       "      <td>https://wuzzuf.net/a/IT-Software-Development-J...</td>\n",
       "      <td>Sales Supervisor - North Upper Egypt</td>\n",
       "      <td>PepsiCo International</td>\n",
       "      <td>Sales Supervisor - North Upper Egypt</td>\n",
       "      <td>https://wuzzuf.net/jobs/p/cc5848eb-a2c4-4055-9...</td>\n",
       "      <td>Full Time · Manager · 1-3 Yrs of Exp · FMCG · ...</td>\n",
       "      <td>Beni Suef, Egypt</td>\n",
       "    </tr>\n",
       "    <tr>\n",
       "      <th>1</th>\n",
       "      <td>https://wuzzuf.net/a/IT-Software-Development-J...</td>\n",
       "      <td>Junior Technical Support Engineer - Upper Egypt</td>\n",
       "      <td>MigrationIT.com</td>\n",
       "      <td>Junior Technical Support Engineer - Upper Egypt</td>\n",
       "      <td>https://wuzzuf.net/jobs/p/39a68f94-611c-4a07-9...</td>\n",
       "      <td>Full Time · Entry Level · 1-2 Yrs of Exp · ITI...</td>\n",
       "      <td>Assiut, Egypt</td>\n",
       "    </tr>\n",
       "    <tr>\n",
       "      <th>2</th>\n",
       "      <td>https://wuzzuf.net/a/IT-Software-Development-J...</td>\n",
       "      <td>Software Developer</td>\n",
       "      <td>Rednet It Services</td>\n",
       "      <td>Software Developer</td>\n",
       "      <td>https://wuzzuf.net/jobs/p/7f3aec8d-1724-4f0c-9...</td>\n",
       "      <td>Full Time · Experienced · 2-3 Yrs of Exp · Sof...</td>\n",
       "      <td>Maadi, Cairo</td>\n",
       "    </tr>\n",
       "    <tr>\n",
       "      <th>3</th>\n",
       "      <td>https://wuzzuf.net/a/IT-Software-Development-J...</td>\n",
       "      <td>Senior Software Quality Control Engineer</td>\n",
       "      <td>Bnsights</td>\n",
       "      <td>Senior Software Quality Control Engineer</td>\n",
       "      <td>https://wuzzuf.net/jobs/p/bbc5d1cb-33ff-4c10-a...</td>\n",
       "      <td>Full Time · Experienced · 3-5 Yrs of Exp · Com...</td>\n",
       "      <td>New Cairo, Cairo</td>\n",
       "    </tr>\n",
       "    <tr>\n",
       "      <th>4</th>\n",
       "      <td>https://wuzzuf.net/a/IT-Software-Development-J...</td>\n",
       "      <td>Senior E-Commerce Software Developer (Magento 2)</td>\n",
       "      <td>shop4build</td>\n",
       "      <td>Senior E-Commerce Software Developer (Magento 2)</td>\n",
       "      <td>https://wuzzuf.net/jobs/p/2be88ac7-5a6c-4a5a-8...</td>\n",
       "      <td>Full Time · Part Time · Work From Home · Exper...</td>\n",
       "      <td>Maadi, Cairo</td>\n",
       "    </tr>\n",
       "  </tbody>\n",
       "</table>\n",
       "</div>"
      ],
      "text/plain": [
       "                                           #PAGE_URL  \\\n",
       "0  https://wuzzuf.net/a/IT-Software-Development-J...   \n",
       "1  https://wuzzuf.net/a/IT-Software-Development-J...   \n",
       "2  https://wuzzuf.net/a/IT-Software-Development-J...   \n",
       "3  https://wuzzuf.net/a/IT-Software-Development-J...   \n",
       "4  https://wuzzuf.net/a/IT-Software-Development-J...   \n",
       "\n",
       "                                              title           company-name  \\\n",
       "0              Sales Supervisor - North Upper Egypt  PepsiCo International   \n",
       "1   Junior Technical Support Engineer - Upper Egypt        MigrationIT.com   \n",
       "2                                Software Developer     Rednet It Services   \n",
       "3          Senior Software Quality Control Engineer               Bnsights   \n",
       "4  Senior E-Commerce Software Developer (Magento 2)             shop4build   \n",
       "\n",
       "                                           job-link  \\\n",
       "0              Sales Supervisor - North Upper Egypt   \n",
       "1   Junior Technical Support Engineer - Upper Egypt   \n",
       "2                                Software Developer   \n",
       "3          Senior Software Quality Control Engineer   \n",
       "4  Senior E-Commerce Software Developer (Magento 2)   \n",
       "\n",
       "                                       job-link_link  \\\n",
       "0  https://wuzzuf.net/jobs/p/cc5848eb-a2c4-4055-9...   \n",
       "1  https://wuzzuf.net/jobs/p/39a68f94-611c-4a07-9...   \n",
       "2  https://wuzzuf.net/jobs/p/7f3aec8d-1724-4f0c-9...   \n",
       "3  https://wuzzuf.net/jobs/p/bbc5d1cb-33ff-4c10-a...   \n",
       "4  https://wuzzuf.net/jobs/p/2be88ac7-5a6c-4a5a-8...   \n",
       "\n",
       "                                  short-description-          location  \n",
       "0  Full Time · Manager · 1-3 Yrs of Exp · FMCG · ...  Beni Suef, Egypt  \n",
       "1  Full Time · Entry Level · 1-2 Yrs of Exp · ITI...     Assiut, Egypt  \n",
       "2  Full Time · Experienced · 2-3 Yrs of Exp · Sof...      Maadi, Cairo  \n",
       "3  Full Time · Experienced · 3-5 Yrs of Exp · Com...  New Cairo, Cairo  \n",
       "4  Full Time · Part Time · Work From Home · Exper...      Maadi, Cairo  "
      ]
     },
     "execution_count": 498,
     "metadata": {},
     "output_type": "execute_result"
    }
   ],
   "source": [
    "df20.head()"
   ]
  },
  {
   "cell_type": "code",
   "execution_count": 499,
   "metadata": {},
   "outputs": [
    {
     "data": {
      "text/html": [
       "<div>\n",
       "<style scoped>\n",
       "    .dataframe tbody tr th:only-of-type {\n",
       "        vertical-align: middle;\n",
       "    }\n",
       "\n",
       "    .dataframe tbody tr th {\n",
       "        vertical-align: top;\n",
       "    }\n",
       "\n",
       "    .dataframe thead th {\n",
       "        text-align: right;\n",
       "    }\n",
       "</style>\n",
       "<table border=\"1\" class=\"dataframe\">\n",
       "  <thead>\n",
       "    <tr style=\"text-align: right;\">\n",
       "      <th></th>\n",
       "      <th>id</th>\n",
       "      <th>city</th>\n",
       "      <th>job_title</th>\n",
       "      <th>job_category1</th>\n",
       "      <th>job_category2</th>\n",
       "      <th>job_category3</th>\n",
       "      <th>job_industry1</th>\n",
       "      <th>job_industry2</th>\n",
       "      <th>job_industry3</th>\n",
       "      <th>salary_minimum</th>\n",
       "      <th>salary_maximum</th>\n",
       "      <th>num_vacancies</th>\n",
       "      <th>career_level</th>\n",
       "      <th>experience_years</th>\n",
       "      <th>post_date</th>\n",
       "      <th>views</th>\n",
       "      <th>job_description</th>\n",
       "      <th>job_requirements</th>\n",
       "      <th>payment_period</th>\n",
       "      <th>currency</th>\n",
       "    </tr>\n",
       "  </thead>\n",
       "  <tbody>\n",
       "    <tr>\n",
       "      <th>0</th>\n",
       "      <td>NaN</td>\n",
       "      <td>NaN</td>\n",
       "      <td>NaN</td>\n",
       "      <td>NaN</td>\n",
       "      <td>NaN</td>\n",
       "      <td>NaN</td>\n",
       "      <td>NaN</td>\n",
       "      <td>NaN</td>\n",
       "      <td>NaN</td>\n",
       "      <td>NaN</td>\n",
       "      <td>NaN</td>\n",
       "      <td>NaN</td>\n",
       "      <td>NaN</td>\n",
       "      <td>NaN</td>\n",
       "      <td>NaN</td>\n",
       "      <td>NaN</td>\n",
       "      <td>NaN</td>\n",
       "      <td>NaN</td>\n",
       "      <td>NaN</td>\n",
       "      <td>NaN</td>\n",
       "    </tr>\n",
       "    <tr>\n",
       "      <th>1</th>\n",
       "      <td>a361ef59</td>\n",
       "      <td>Cairo</td>\n",
       "      <td>German Training Coordinator</td>\n",
       "      <td>Customer Service/Support</td>\n",
       "      <td>Administration</td>\n",
       "      <td>Human Resources</td>\n",
       "      <td>Translation and Localization</td>\n",
       "      <td>Business Services - Other</td>\n",
       "      <td>Education</td>\n",
       "      <td>1000.0</td>\n",
       "      <td>5000.0</td>\n",
       "      <td>8.0</td>\n",
       "      <td>Entry Level</td>\n",
       "      <td>0-2</td>\n",
       "      <td>1/1/2014 20:01</td>\n",
       "      <td>2213.0</td>\n",
       "      <td>&lt;p&gt;&amp;bull;Placing jobs' ads on various websites...</td>\n",
       "      <td>NaN</td>\n",
       "      <td>Per Month</td>\n",
       "      <td>Egyptian Pound</td>\n",
       "    </tr>\n",
       "    <tr>\n",
       "      <th>2</th>\n",
       "      <td>7226ce78</td>\n",
       "      <td>Cairo</td>\n",
       "      <td>Junior Software Developer</td>\n",
       "      <td>IT/Software Development</td>\n",
       "      <td>Select</td>\n",
       "      <td>Select</td>\n",
       "      <td>Computer Software</td>\n",
       "      <td>Select</td>\n",
       "      <td>Select</td>\n",
       "      <td>2000.0</td>\n",
       "      <td>2500.0</td>\n",
       "      <td>1.0</td>\n",
       "      <td>Entry Level</td>\n",
       "      <td>2</td>\n",
       "      <td>1/2/2014 11:01</td>\n",
       "      <td>2940.0</td>\n",
       "      <td>&lt;span style=\"text-decoration: underline;\"&gt;&lt;str...</td>\n",
       "      <td>NaN</td>\n",
       "      <td>Per Month</td>\n",
       "      <td>Egyptian Pound</td>\n",
       "    </tr>\n",
       "    <tr>\n",
       "      <th>3</th>\n",
       "      <td>f4b2bcd6</td>\n",
       "      <td>Cairo</td>\n",
       "      <td>Application Support Engineer</td>\n",
       "      <td>IT/Software Development</td>\n",
       "      <td>Select</td>\n",
       "      <td>Select</td>\n",
       "      <td>Telecommunications Services</td>\n",
       "      <td>Select</td>\n",
       "      <td>Select</td>\n",
       "      <td>2000.0</td>\n",
       "      <td>3500.0</td>\n",
       "      <td>1.0</td>\n",
       "      <td>Entry Level</td>\n",
       "      <td>2-Jan</td>\n",
       "      <td>1/2/2014 12:01</td>\n",
       "      <td>2042.0</td>\n",
       "      <td>&lt;strong&gt;&lt;span style=\"text-decoration: underlin...</td>\n",
       "      <td>NaN</td>\n",
       "      <td>Per Month</td>\n",
       "      <td>Egyptian Pound</td>\n",
       "    </tr>\n",
       "    <tr>\n",
       "      <th>4</th>\n",
       "      <td>3fee6f73</td>\n",
       "      <td>Alexandria</td>\n",
       "      <td>Electrical Maintenance Engineer</td>\n",
       "      <td>Engineering</td>\n",
       "      <td>Select</td>\n",
       "      <td>Select</td>\n",
       "      <td>Food and Beverage Production</td>\n",
       "      <td>Select</td>\n",
       "      <td>Select</td>\n",
       "      <td>5000.0</td>\n",
       "      <td>8000.0</td>\n",
       "      <td>1.0</td>\n",
       "      <td>Experienced (Non-Manager)</td>\n",
       "      <td>3-Jan</td>\n",
       "      <td>1/21/2014 13:45</td>\n",
       "      <td>5684.0</td>\n",
       "      <td>Job Title: Electrical Maintenance Engineer&lt;br ...</td>\n",
       "      <td>NaN</td>\n",
       "      <td>Per Month</td>\n",
       "      <td>Egyptian Pound</td>\n",
       "    </tr>\n",
       "  </tbody>\n",
       "</table>\n",
       "</div>"
      ],
      "text/plain": [
       "         id        city                        job_title  \\\n",
       "0       NaN         NaN                              NaN   \n",
       "1  a361ef59       Cairo     German Training Coordinator    \n",
       "2  7226ce78       Cairo       Junior Software Developer    \n",
       "3  f4b2bcd6       Cairo     Application Support Engineer   \n",
       "4  3fee6f73  Alexandria  Electrical Maintenance Engineer   \n",
       "\n",
       "              job_category1   job_category2    job_category3  \\\n",
       "0                       NaN             NaN              NaN   \n",
       "1  Customer Service/Support  Administration  Human Resources   \n",
       "2   IT/Software Development          Select           Select   \n",
       "3   IT/Software Development          Select           Select   \n",
       "4               Engineering          Select           Select   \n",
       "\n",
       "                     job_industry1              job_industry2 job_industry3  \\\n",
       "0                              NaN                        NaN           NaN   \n",
       "1  Translation and Localization     Business Services - Other     Education   \n",
       "2                Computer Software                     Select        Select   \n",
       "3      Telecommunications Services                     Select        Select   \n",
       "4     Food and Beverage Production                     Select        Select   \n",
       "\n",
       "   salary_minimum  salary_maximum  num_vacancies               career_level  \\\n",
       "0             NaN             NaN            NaN                        NaN   \n",
       "1          1000.0          5000.0            8.0                Entry Level   \n",
       "2          2000.0          2500.0            1.0                Entry Level   \n",
       "3          2000.0          3500.0            1.0                Entry Level   \n",
       "4          5000.0          8000.0            1.0  Experienced (Non-Manager)   \n",
       "\n",
       "  experience_years        post_date   views  \\\n",
       "0              NaN              NaN     NaN   \n",
       "1              0-2   1/1/2014 20:01  2213.0   \n",
       "2                2   1/2/2014 11:01  2940.0   \n",
       "3            2-Jan   1/2/2014 12:01  2042.0   \n",
       "4            3-Jan  1/21/2014 13:45  5684.0   \n",
       "\n",
       "                                     job_description job_requirements  \\\n",
       "0                                                NaN              NaN   \n",
       "1  <p>&bull;Placing jobs' ads on various websites...              NaN   \n",
       "2  <span style=\"text-decoration: underline;\"><str...              NaN   \n",
       "3  <strong><span style=\"text-decoration: underlin...              NaN   \n",
       "4  Job Title: Electrical Maintenance Engineer<br ...              NaN   \n",
       "\n",
       "  payment_period        currency  \n",
       "0            NaN             NaN  \n",
       "1      Per Month  Egyptian Pound  \n",
       "2      Per Month  Egyptian Pound  \n",
       "3      Per Month  Egyptian Pound  \n",
       "4      Per Month  Egyptian Pound  "
      ]
     },
     "execution_count": 499,
     "metadata": {},
     "output_type": "execute_result"
    }
   ],
   "source": [
    "df1416.head()"
   ]
  },
  {
   "cell_type": "code",
   "execution_count": 500,
   "metadata": {},
   "outputs": [],
   "source": [
    "#cleaning\n",
    "df21=df21.copy()\n",
    "df20=df20.copy()\n",
    "df1416=df1416.copy()"
   ]
  },
  {
   "cell_type": "code",
   "execution_count": 501,
   "metadata": {},
   "outputs": [],
   "source": [
    "df20= df20.drop(['#PAGE_URL','job-link','job-link_link'], axis = 1)\n",
    "df1416 =df1416.drop(['currency', 'views', 'post_date', 'num_vacancies', 'salary_maximum', 'salary_minimum', 'id','job_requirements','career_level'\n",
    "                    ,'payment_period','job_industry1','job_industry2','job_industry3'], axis=1)"
   ]
  },
  {
   "cell_type": "code",
   "execution_count": 502,
   "metadata": {},
   "outputs": [
    {
     "name": "stdout",
     "output_type": "stream",
     "text": [
      "<class 'pandas.core.frame.DataFrame'>\n",
      "RangeIndex: 21922 entries, 0 to 21921\n",
      "Data columns (total 7 columns):\n",
      " #   Column            Non-Null Count  Dtype \n",
      "---  ------            --------------  ----- \n",
      " 0   city              14732 non-null  object\n",
      " 1   job_title         14731 non-null  object\n",
      " 2   job_category1     14731 non-null  object\n",
      " 3   job_category2     14730 non-null  object\n",
      " 4   job_category3     14730 non-null  object\n",
      " 5   experience_years  14730 non-null  object\n",
      " 6   job_description   14540 non-null  object\n",
      "dtypes: object(7)\n",
      "memory usage: 1.2+ MB\n"
     ]
    }
   ],
   "source": [
    "df1416.info()"
   ]
  },
  {
   "cell_type": "code",
   "execution_count": 503,
   "metadata": {},
   "outputs": [],
   "source": [
    "df1416[\"description\"] = df1416[\"experience_years\"].astype(str) +' experience ' + df1416[\"job_description\"]\n",
    "#df1416[\"job_title\"] = df1416[\"job_title\"].astype(str) +\" \\ \"+df1416[\"job_category1\"] + \" \\ \" +df1416[\"job_category2\"]+\" \\ \"+df1416[\"job_category3\"]\n"
   ]
  },
  {
   "cell_type": "code",
   "execution_count": 504,
   "metadata": {},
   "outputs": [],
   "source": [
    "df1416= df1416.drop(['experience_years','job_description','job_category1','job_category2','job_category3'], axis = 1)\n"
   ]
  },
  {
   "cell_type": "code",
   "execution_count": 505,
   "metadata": {},
   "outputs": [
    {
     "data": {
      "text/html": [
       "<div>\n",
       "<style scoped>\n",
       "    .dataframe tbody tr th:only-of-type {\n",
       "        vertical-align: middle;\n",
       "    }\n",
       "\n",
       "    .dataframe tbody tr th {\n",
       "        vertical-align: top;\n",
       "    }\n",
       "\n",
       "    .dataframe thead th {\n",
       "        text-align: right;\n",
       "    }\n",
       "</style>\n",
       "<table border=\"1\" class=\"dataframe\">\n",
       "  <thead>\n",
       "    <tr style=\"text-align: right;\">\n",
       "      <th></th>\n",
       "      <th>city</th>\n",
       "      <th>job_title</th>\n",
       "      <th>description</th>\n",
       "    </tr>\n",
       "  </thead>\n",
       "  <tbody>\n",
       "    <tr>\n",
       "      <th>0</th>\n",
       "      <td>NaN</td>\n",
       "      <td>NaN</td>\n",
       "      <td>NaN</td>\n",
       "    </tr>\n",
       "    <tr>\n",
       "      <th>1</th>\n",
       "      <td>Cairo</td>\n",
       "      <td>German Training Coordinator</td>\n",
       "      <td>0-2 experience &lt;p&gt;&amp;bull;Placing jobs' ads on v...</td>\n",
       "    </tr>\n",
       "    <tr>\n",
       "      <th>2</th>\n",
       "      <td>Cairo</td>\n",
       "      <td>Junior Software Developer</td>\n",
       "      <td>2 experience &lt;span style=\"text-decoration: und...</td>\n",
       "    </tr>\n",
       "    <tr>\n",
       "      <th>3</th>\n",
       "      <td>Cairo</td>\n",
       "      <td>Application Support Engineer</td>\n",
       "      <td>2-Jan experience &lt;strong&gt;&lt;span style=\"text-dec...</td>\n",
       "    </tr>\n",
       "    <tr>\n",
       "      <th>4</th>\n",
       "      <td>Alexandria</td>\n",
       "      <td>Electrical Maintenance Engineer</td>\n",
       "      <td>3-Jan experience Job Title: Electrical Mainten...</td>\n",
       "    </tr>\n",
       "  </tbody>\n",
       "</table>\n",
       "</div>"
      ],
      "text/plain": [
       "         city                        job_title  \\\n",
       "0         NaN                              NaN   \n",
       "1       Cairo     German Training Coordinator    \n",
       "2       Cairo       Junior Software Developer    \n",
       "3       Cairo     Application Support Engineer   \n",
       "4  Alexandria  Electrical Maintenance Engineer   \n",
       "\n",
       "                                         description  \n",
       "0                                                NaN  \n",
       "1  0-2 experience <p>&bull;Placing jobs' ads on v...  \n",
       "2  2 experience <span style=\"text-decoration: und...  \n",
       "3  2-Jan experience <strong><span style=\"text-dec...  \n",
       "4  3-Jan experience Job Title: Electrical Mainten...  "
      ]
     },
     "execution_count": 505,
     "metadata": {},
     "output_type": "execute_result"
    }
   ],
   "source": [
    "df1416.head()"
   ]
  },
  {
   "cell_type": "code",
   "execution_count": 506,
   "metadata": {},
   "outputs": [],
   "source": [
    "#renaming columns \n",
    "df21 = df21.rename(columns = {'company_names': 'company','company_locations': 'location','job_description':'description'})\n",
    "df20 = df20.rename(columns = {'title':'job_title','company-name': 'company','short-description-':'description'})\n",
    "df1416 = df1416.rename(columns = {'city': 'location'})"
   ]
  },
  {
   "cell_type": "code",
   "execution_count": 507,
   "metadata": {},
   "outputs": [
    {
     "name": "stdout",
     "output_type": "stream",
     "text": [
      "<class 'pandas.core.frame.DataFrame'>\n",
      "RangeIndex: 2620 entries, 0 to 2619\n",
      "Data columns (total 4 columns):\n",
      " #   Column       Non-Null Count  Dtype \n",
      "---  ------       --------------  ----- \n",
      " 0   job_title    2620 non-null   object\n",
      " 1   company      2620 non-null   object\n",
      " 2   location     2620 non-null   object\n",
      " 3   description  2620 non-null   object\n",
      "dtypes: object(4)\n",
      "memory usage: 82.0+ KB\n"
     ]
    }
   ],
   "source": [
    "df21.info()"
   ]
  },
  {
   "cell_type": "code",
   "execution_count": 508,
   "metadata": {},
   "outputs": [
    {
     "name": "stdout",
     "output_type": "stream",
     "text": [
      "<class 'pandas.core.frame.DataFrame'>\n",
      "RangeIndex: 2580 entries, 0 to 2579\n",
      "Data columns (total 4 columns):\n",
      " #   Column       Non-Null Count  Dtype \n",
      "---  ------       --------------  ----- \n",
      " 0   job_title    2580 non-null   object\n",
      " 1   company      2580 non-null   object\n",
      " 2   description  2580 non-null   object\n",
      " 3   location     2580 non-null   object\n",
      "dtypes: object(4)\n",
      "memory usage: 80.8+ KB\n"
     ]
    }
   ],
   "source": [
    "df20.info()"
   ]
  },
  {
   "cell_type": "code",
   "execution_count": 509,
   "metadata": {},
   "outputs": [
    {
     "name": "stdout",
     "output_type": "stream",
     "text": [
      "<class 'pandas.core.frame.DataFrame'>\n",
      "RangeIndex: 21922 entries, 0 to 21921\n",
      "Data columns (total 3 columns):\n",
      " #   Column       Non-Null Count  Dtype \n",
      "---  ------       --------------  ----- \n",
      " 0   location     14732 non-null  object\n",
      " 1   job_title    14731 non-null  object\n",
      " 2   description  14540 non-null  object\n",
      "dtypes: object(3)\n",
      "memory usage: 513.9+ KB\n"
     ]
    }
   ],
   "source": [
    "df1416.info()"
   ]
  },
  {
   "cell_type": "code",
   "execution_count": 510,
   "metadata": {},
   "outputs": [],
   "source": [
    "#saving datasets after cleaning\n",
    "df21.to_csv(\"wuzzafCleaned21.csv\", index = False)\n",
    "df20.to_csv(\"wuzzafCleaned20.csv\", index = False)\n",
    "df1416.to_csv(\"wuzzafCleaned1416.csv\", index = False)"
   ]
  },
  {
   "cell_type": "code",
   "execution_count": 511,
   "metadata": {},
   "outputs": [
    {
     "data": {
      "text/html": [
       "<div>\n",
       "<style scoped>\n",
       "    .dataframe tbody tr th:only-of-type {\n",
       "        vertical-align: middle;\n",
       "    }\n",
       "\n",
       "    .dataframe tbody tr th {\n",
       "        vertical-align: top;\n",
       "    }\n",
       "\n",
       "    .dataframe thead th {\n",
       "        text-align: right;\n",
       "    }\n",
       "</style>\n",
       "<table border=\"1\" class=\"dataframe\">\n",
       "  <thead>\n",
       "    <tr style=\"text-align: right;\">\n",
       "      <th></th>\n",
       "      <th>job_title</th>\n",
       "      <th>company</th>\n",
       "      <th>location</th>\n",
       "      <th>description</th>\n",
       "    </tr>\n",
       "  </thead>\n",
       "  <tbody>\n",
       "    <tr>\n",
       "      <th>0</th>\n",
       "      <td>Business Development Specialist - Upper Egypt</td>\n",
       "      <td>golden</td>\n",
       "      <td>- Aswan, Egypt</td>\n",
       "      <td>Full Time Â· Experienced Â· 2+ Yrs of Exp Â· B...</td>\n",
       "    </tr>\n",
       "    <tr>\n",
       "      <th>1</th>\n",
       "      <td>Senior/Intermediate .NET Core Developer (Remot...</td>\n",
       "      <td>Confidential</td>\n",
       "      <td>- Cairo, Egypt</td>\n",
       "      <td>Full Time Â· Experienced Â· 4+ Yrs of Exp Â· S...</td>\n",
       "    </tr>\n",
       "    <tr>\n",
       "      <th>2</th>\n",
       "      <td>Senior Software Developer</td>\n",
       "      <td>Bnsights</td>\n",
       "      <td>- New Cairo, Cairo</td>\n",
       "      <td>Full Time Â· Experienced Â· 6-10 Yrs of Exp Â·...</td>\n",
       "    </tr>\n",
       "    <tr>\n",
       "      <th>3</th>\n",
       "      <td>Software Developer / Desktop Development</td>\n",
       "      <td>ITS</td>\n",
       "      <td>- Nasr City, Cairo</td>\n",
       "      <td>Full Time Â· Entry Level Â· 0-2 Yrs of Exp Â· ...</td>\n",
       "    </tr>\n",
       "    <tr>\n",
       "      <th>4</th>\n",
       "      <td>Senior Software Developer -Dynamics 365...</td>\n",
       "      <td>CrossWorkers</td>\n",
       "      <td>- New Cairo, Cairo</td>\n",
       "      <td>Full Time Â· Experienced Â· 4-12 Yrs of Exp Â·...</td>\n",
       "    </tr>\n",
       "    <tr>\n",
       "      <th>...</th>\n",
       "      <td>...</td>\n",
       "      <td>...</td>\n",
       "      <td>...</td>\n",
       "      <td>...</td>\n",
       "    </tr>\n",
       "    <tr>\n",
       "      <th>21917</th>\n",
       "      <td>Creative Designer</td>\n",
       "      <td>NaN</td>\n",
       "      <td>Cairo</td>\n",
       "      <td>4-Jan experience &amp;bull; Create advertising cre...</td>\n",
       "    </tr>\n",
       "    <tr>\n",
       "      <th>21918</th>\n",
       "      <td>Health and Safety Manager - Qalyubia</td>\n",
       "      <td>NaN</td>\n",
       "      <td>Qalyubia</td>\n",
       "      <td>5+ experience Health and Safety Managers are a...</td>\n",
       "    </tr>\n",
       "    <tr>\n",
       "      <th>21919</th>\n",
       "      <td>NaN</td>\n",
       "      <td>NaN</td>\n",
       "      <td>NaN</td>\n",
       "      <td>NaN</td>\n",
       "    </tr>\n",
       "    <tr>\n",
       "      <th>21920</th>\n",
       "      <td>E Markting</td>\n",
       "      <td>NaN</td>\n",
       "      <td>Cairo</td>\n",
       "      <td>0 to 1 experience We are looking for E- market...</td>\n",
       "    </tr>\n",
       "    <tr>\n",
       "      <th>21921</th>\n",
       "      <td>Microsoft Product Manager</td>\n",
       "      <td>NaN</td>\n",
       "      <td>Cairo</td>\n",
       "      <td>3:05 experience - Identify new areas / lines o...</td>\n",
       "    </tr>\n",
       "  </tbody>\n",
       "</table>\n",
       "<p>27122 rows × 4 columns</p>\n",
       "</div>"
      ],
      "text/plain": [
       "                                               job_title       company  \\\n",
       "0          Business Development Specialist - Upper Egypt        golden   \n",
       "1      Senior/Intermediate .NET Core Developer (Remot...  Confidential   \n",
       "2                              Senior Software Developer      Bnsights   \n",
       "3               Software Developer / Desktop Development           ITS   \n",
       "4             Senior Software Developer -Dynamics 365...  CrossWorkers   \n",
       "...                                                  ...           ...   \n",
       "21917                                  Creative Designer           NaN   \n",
       "21918               Health and Safety Manager - Qalyubia           NaN   \n",
       "21919                                                NaN           NaN   \n",
       "21920                                        E Markting            NaN   \n",
       "21921                          Microsoft Product Manager           NaN   \n",
       "\n",
       "                 location                                        description  \n",
       "0          - Aswan, Egypt  Full Time Â· Experienced Â· 2+ Yrs of Exp Â· B...  \n",
       "1          - Cairo, Egypt  Full Time Â· Experienced Â· 4+ Yrs of Exp Â· S...  \n",
       "2      - New Cairo, Cairo  Full Time Â· Experienced Â· 6-10 Yrs of Exp Â·...  \n",
       "3      - Nasr City, Cairo  Full Time Â· Entry Level Â· 0-2 Yrs of Exp Â· ...  \n",
       "4      - New Cairo, Cairo  Full Time Â· Experienced Â· 4-12 Yrs of Exp Â·...  \n",
       "...                   ...                                                ...  \n",
       "21917               Cairo  4-Jan experience &bull; Create advertising cre...  \n",
       "21918            Qalyubia  5+ experience Health and Safety Managers are a...  \n",
       "21919                 NaN                                                NaN  \n",
       "21920               Cairo  0 to 1 experience We are looking for E- market...  \n",
       "21921               Cairo  3:05 experience - Identify new areas / lines o...  \n",
       "\n",
       "[27122 rows x 4 columns]"
      ]
     },
     "execution_count": 511,
     "metadata": {},
     "output_type": "execute_result"
    }
   ],
   "source": [
    "#merging datasets\n",
    "df1 = pd.read_csv('wuzzafCleaned21.csv')\n",
    "df2 = pd.read_csv('wuzzafCleaned20.csv')\n",
    "df3 = pd.read_csv('wuzzafCleaned1416.csv')\n",
    "\n",
    "df_list = [df1, df2, df3]\n",
    "df = pd.concat(df_list)\n",
    "df"
   ]
  },
  {
   "cell_type": "code",
   "execution_count": 512,
   "metadata": {},
   "outputs": [
    {
     "data": {
      "text/html": [
       "<div>\n",
       "<style scoped>\n",
       "    .dataframe tbody tr th:only-of-type {\n",
       "        vertical-align: middle;\n",
       "    }\n",
       "\n",
       "    .dataframe tbody tr th {\n",
       "        vertical-align: top;\n",
       "    }\n",
       "\n",
       "    .dataframe thead th {\n",
       "        text-align: right;\n",
       "    }\n",
       "</style>\n",
       "<table border=\"1\" class=\"dataframe\">\n",
       "  <thead>\n",
       "    <tr style=\"text-align: right;\">\n",
       "      <th></th>\n",
       "      <th>job_title</th>\n",
       "      <th>company</th>\n",
       "      <th>location</th>\n",
       "      <th>description</th>\n",
       "    </tr>\n",
       "  </thead>\n",
       "  <tbody>\n",
       "    <tr>\n",
       "      <th>0</th>\n",
       "      <td>Business Development Specialist - Upper Egypt</td>\n",
       "      <td>golden</td>\n",
       "      <td>- Aswan, Egypt</td>\n",
       "      <td>Full Time Â· Experienced Â· 2+ Yrs of Exp Â· B...</td>\n",
       "    </tr>\n",
       "    <tr>\n",
       "      <th>1</th>\n",
       "      <td>Senior/Intermediate .NET Core Developer (Remot...</td>\n",
       "      <td>Confidential</td>\n",
       "      <td>- Cairo, Egypt</td>\n",
       "      <td>Full Time Â· Experienced Â· 4+ Yrs of Exp Â· S...</td>\n",
       "    </tr>\n",
       "    <tr>\n",
       "      <th>2</th>\n",
       "      <td>Senior Software Developer</td>\n",
       "      <td>Bnsights</td>\n",
       "      <td>- New Cairo, Cairo</td>\n",
       "      <td>Full Time Â· Experienced Â· 6-10 Yrs of Exp Â·...</td>\n",
       "    </tr>\n",
       "    <tr>\n",
       "      <th>3</th>\n",
       "      <td>Software Developer / Desktop Development</td>\n",
       "      <td>ITS</td>\n",
       "      <td>- Nasr City, Cairo</td>\n",
       "      <td>Full Time Â· Entry Level Â· 0-2 Yrs of Exp Â· ...</td>\n",
       "    </tr>\n",
       "    <tr>\n",
       "      <th>4</th>\n",
       "      <td>Senior Software Developer -Dynamics 365...</td>\n",
       "      <td>CrossWorkers</td>\n",
       "      <td>- New Cairo, Cairo</td>\n",
       "      <td>Full Time Â· Experienced Â· 4-12 Yrs of Exp Â·...</td>\n",
       "    </tr>\n",
       "    <tr>\n",
       "      <th>...</th>\n",
       "      <td>...</td>\n",
       "      <td>...</td>\n",
       "      <td>...</td>\n",
       "      <td>...</td>\n",
       "    </tr>\n",
       "    <tr>\n",
       "      <th>21917</th>\n",
       "      <td>Creative Designer</td>\n",
       "      <td>Hidden Name</td>\n",
       "      <td>Cairo</td>\n",
       "      <td>4-Jan experience &amp;bull; Create advertising cre...</td>\n",
       "    </tr>\n",
       "    <tr>\n",
       "      <th>21918</th>\n",
       "      <td>Health and Safety Manager - Qalyubia</td>\n",
       "      <td>Hidden Name</td>\n",
       "      <td>Qalyubia</td>\n",
       "      <td>5+ experience Health and Safety Managers are a...</td>\n",
       "    </tr>\n",
       "    <tr>\n",
       "      <th>21919</th>\n",
       "      <td>NaN</td>\n",
       "      <td>Hidden Name</td>\n",
       "      <td>NaN</td>\n",
       "      <td>NaN</td>\n",
       "    </tr>\n",
       "    <tr>\n",
       "      <th>21920</th>\n",
       "      <td>E Markting</td>\n",
       "      <td>Hidden Name</td>\n",
       "      <td>Cairo</td>\n",
       "      <td>0 to 1 experience We are looking for E- market...</td>\n",
       "    </tr>\n",
       "    <tr>\n",
       "      <th>21921</th>\n",
       "      <td>Microsoft Product Manager</td>\n",
       "      <td>Hidden Name</td>\n",
       "      <td>Cairo</td>\n",
       "      <td>3:05 experience - Identify new areas / lines o...</td>\n",
       "    </tr>\n",
       "  </tbody>\n",
       "</table>\n",
       "<p>27122 rows × 4 columns</p>\n",
       "</div>"
      ],
      "text/plain": [
       "                                               job_title       company  \\\n",
       "0          Business Development Specialist - Upper Egypt        golden   \n",
       "1      Senior/Intermediate .NET Core Developer (Remot...  Confidential   \n",
       "2                              Senior Software Developer      Bnsights   \n",
       "3               Software Developer / Desktop Development           ITS   \n",
       "4             Senior Software Developer -Dynamics 365...  CrossWorkers   \n",
       "...                                                  ...           ...   \n",
       "21917                                  Creative Designer   Hidden Name   \n",
       "21918               Health and Safety Manager - Qalyubia   Hidden Name   \n",
       "21919                                                NaN   Hidden Name   \n",
       "21920                                        E Markting    Hidden Name   \n",
       "21921                          Microsoft Product Manager   Hidden Name   \n",
       "\n",
       "                 location                                        description  \n",
       "0          - Aswan, Egypt  Full Time Â· Experienced Â· 2+ Yrs of Exp Â· B...  \n",
       "1          - Cairo, Egypt  Full Time Â· Experienced Â· 4+ Yrs of Exp Â· S...  \n",
       "2      - New Cairo, Cairo  Full Time Â· Experienced Â· 6-10 Yrs of Exp Â·...  \n",
       "3      - Nasr City, Cairo  Full Time Â· Entry Level Â· 0-2 Yrs of Exp Â· ...  \n",
       "4      - New Cairo, Cairo  Full Time Â· Experienced Â· 4-12 Yrs of Exp Â·...  \n",
       "...                   ...                                                ...  \n",
       "21917               Cairo  4-Jan experience &bull; Create advertising cre...  \n",
       "21918            Qalyubia  5+ experience Health and Safety Managers are a...  \n",
       "21919                 NaN                                                NaN  \n",
       "21920               Cairo  0 to 1 experience We are looking for E- market...  \n",
       "21921               Cairo  3:05 experience - Identify new areas / lines o...  \n",
       "\n",
       "[27122 rows x 4 columns]"
      ]
     },
     "execution_count": 512,
     "metadata": {},
     "output_type": "execute_result"
    }
   ],
   "source": [
    "#replacing all NaNs in Company column by Hidden name\n",
    "import numpy as np\n",
    "df['company'].replace(' ', np.nan, inplace=True) \n",
    "df[\"company\"].fillna(\"Hidden Name\",inplace=True)\n",
    "\n",
    "df"
   ]
  },
  {
   "cell_type": "code",
   "execution_count": 513,
   "metadata": {},
   "outputs": [
    {
     "name": "stdout",
     "output_type": "stream",
     "text": [
      "<class 'pandas.core.frame.DataFrame'>\n",
      "Int64Index: 27122 entries, 0 to 21921\n",
      "Data columns (total 4 columns):\n",
      " #   Column       Non-Null Count  Dtype \n",
      "---  ------       --------------  ----- \n",
      " 0   job_title    19931 non-null  object\n",
      " 1   company      27122 non-null  object\n",
      " 2   location     19932 non-null  object\n",
      " 3   description  19740 non-null  object\n",
      "dtypes: object(4)\n",
      "memory usage: 1.0+ MB\n"
     ]
    }
   ],
   "source": [
    "#analysis\n",
    "#assessing\n",
    "df.info()"
   ]
  },
  {
   "cell_type": "code",
   "execution_count": 535,
   "metadata": {},
   "outputs": [
    {
     "data": {
      "text/plain": [
       "Graphic Designer                                393\n",
       "Web Developer                                   160\n",
       "PHP Developer                                   138\n",
       "Web Designer                                    132\n",
       "Software Developer                              119\n",
       "                                               ... \n",
       "Do You Wanna Make Difference As An Engineer?      1\n",
       "Backend Developer (Node.Js)                       1\n",
       "Principal Software Developer - VueJS              1\n",
       "Project Coordinator - Translation                 1\n",
       "Purchasing Supervisor (Packaging Material)        1\n",
       "Name: job_title, Length: 10261, dtype: int64"
      ]
     },
     "execution_count": 535,
     "metadata": {},
     "output_type": "execute_result"
    }
   ],
   "source": [
    "#figure out how many jobs in each title\n",
    "\n",
    "df.job_title.value_counts()"
   ]
  },
  {
   "cell_type": "code",
   "execution_count": 541,
   "metadata": {},
   "outputs": [
    {
     "data": {
      "text/plain": [
       "count                19931\n",
       "unique               10261\n",
       "top       Graphic Designer\n",
       "freq                   393\n",
       "Name: job_title, dtype: object"
      ]
     },
     "execution_count": 541,
     "metadata": {},
     "output_type": "execute_result"
    }
   ],
   "source": [
    "df.job_title.describe()"
   ]
  },
  {
   "cell_type": "code",
   "execution_count": 542,
   "metadata": {},
   "outputs": [
    {
     "name": "stdout",
     "output_type": "stream",
     "text": [
      "            Level\n",
      "0     Experienced\n",
      "1     Experienced\n",
      "2     Experienced\n",
      "3     Entry Level\n",
      "4     Experienced\n",
      "...           ...\n",
      "5195  Experienced\n",
      "5196  Experienced\n",
      "5197  Experienced\n",
      "5198      Manager\n",
      "5199  Experienced\n",
      "\n",
      "[5200 rows x 1 columns]\n"
     ]
    }
   ],
   "source": [
    "dfnew = DataFrame (Level_list,columns=['Level'])\n",
    "print (dfnew)"
   ]
  },
  {
   "cell_type": "code",
   "execution_count": 543,
   "metadata": {},
   "outputs": [
    {
     "data": {
      "text/plain": [
       "<AxesSubplot:title={'center':'Most 10 offers through 2014,2016,2020,2021 '}>"
      ]
     },
     "execution_count": 543,
     "metadata": {},
     "output_type": "execute_result"
    },
    {
     "data": {
      "image/png": "[encoded data removed]",
      "text/plain": [
       "<Figure size 432x288 with 1 Axes>"
      ]
     },
     "metadata": {
      "needs_background": "light"
     },
     "output_type": "display_data"
    }
   ],
   "source": [
    "# Top 10 jops=\n",
    "title = df['job_title'].value_counts()[:10]\n",
    "title.plot(kind='barh', title='Most 10 offers through 2014,2016,2020,2021 ') \n"
   ]
  },
  {
   "cell_type": "code",
   "execution_count": 544,
   "metadata": {},
   "outputs": [
    {
     "data": {
      "text/plain": [
       "Cairo                   10034\n",
       "Giza                     2593\n",
       "Alexandria                719\n",
       "- Cairo, Egypt            464\n",
       "Maadi, Cairo              440\n",
       "                        ...  \n",
       "Sheikh Zayed City           1\n",
       "ابها                        1\n",
       "Dammam, Saudi Arabia        1\n",
       "Alexandria or Cairo         1\n",
       "El Menoufia                 1\n",
       "Name: location, Length: 586, dtype: int64"
      ]
     },
     "execution_count": 544,
     "metadata": {},
     "output_type": "execute_result"
    }
   ],
   "source": [
    "#figure out how many jobs in each city\n",
    "df.location.value_counts()"
   ]
  },
  {
   "cell_type": "code",
   "execution_count": 545,
   "metadata": {},
   "outputs": [
    {
     "data": {
      "text/plain": [
       "<AxesSubplot:title={'center':'Geographical distribution of jobs'}>"
      ]
     },
     "execution_count": 545,
     "metadata": {},
     "output_type": "execute_result"
    },
    {
     "data": {
      "image/png": "[encoded data removed]",
      "text/plain": [
       "<Figure size 432x288 with 1 Axes>"
      ]
     },
     "metadata": {
      "needs_background": "light"
     },
     "output_type": "display_data"
    }
   ],
   "source": [
    "#top cities having job opportunities\n",
    "location = df['location'].value_counts()[:10]\n",
    "location.plot(kind = 'barh',color = \"lightskyblue\",title='Geographical distribution of jobs')"
   ]
  },
  {
   "cell_type": "code",
   "execution_count": 546,
   "metadata": {},
   "outputs": [
    {
     "data": {
      "text/plain": [
       "count           27122\n",
       "unique           1620\n",
       "top       Hidden Name\n",
       "freq            22199\n",
       "Name: company, dtype: object"
      ]
     },
     "execution_count": 546,
     "metadata": {},
     "output_type": "execute_result"
    }
   ],
   "source": [
    "df.company.describe()"
   ]
  },
  {
   "cell_type": "code",
   "execution_count": 556,
   "metadata": {},
   "outputs": [
    {
     "data": {
      "text/plain": [
       "<AxesSubplot:title={'center':'Most employing companies'}>"
      ]
     },
     "execution_count": 556,
     "metadata": {},
     "output_type": "execute_result"
    },
    {
     "data": {
      "image/png": "[encoded data removed]",
      "text/plain": [
       "<Figure size 432x288 with 1 Axes>"
      ]
     },
     "metadata": {
      "needs_background": "light"
     },
     "output_type": "display_data"
    }
   ],
   "source": [
    "#best companies\n",
    "company = df['company'].value_counts()[:10]\n",
    "company.plot(kind = 'barh',color = \"lightskyblue\",title='Most employing companies')\n",
    "#in conclusion most of companies hide their name"
   ]
  },
  {
   "cell_type": "code",
   "execution_count": 550,
   "metadata": {},
   "outputs": [
    {
     "data": {
      "text/plain": [
       "count                                                 19740\n",
       "unique                                                17390\n",
       "top       0 - 2 experience Are you a talented, dynamic s...\n",
       "freq                                                     18\n",
       "Name: description, dtype: object"
      ]
     },
     "execution_count": 550,
     "metadata": {},
     "output_type": "execute_result"
    }
   ],
   "source": [
    "df.description.describe()"
   ]
  },
  {
   "cell_type": "code",
   "execution_count": 552,
   "metadata": {},
   "outputs": [
    {
     "data": {
      "image/png": "[encoded data removed]",
      "text/plain": [
       "<Figure size 432x288 with 1 Axes>"
      ]
     },
     "metadata": {},
     "output_type": "display_data"
    }
   ],
   "source": [
    "pieLabels = 'Full Time', 'Part Time', 'Intership'\n",
    "job_typeShare = [2430/2580,105/2580,45/2580 ]\n",
    "figureObject, axesObject = plt.subplots()\n",
    "axesObject.pie(job_typeShare,labels=pieLabels, autopct='%5.1f',startangle=180)\n",
    "axesObject.axis('equal')\n",
    "plt.show()"
   ]
  },
  {
   "cell_type": "code",
   "execution_count": 558,
   "metadata": {},
   "outputs": [
    {
     "data": {
      "image/png": "[encoded data removed]",
      "text/plain": [
       "<Figure size 432x288 with 1 Axes>"
      ]
     },
     "metadata": {
      "needs_background": "light"
     },
     "output_type": "display_data"
    }
   ],
   "source": [
    "total = 5200\n",
    "langs = ['Entry Level', 'Experrienced', 'Manager']\n",
    "langs_users_num = np.array([485, 1674, 421])\n",
    "percent = langs_users_num/total*100\n",
    "new_labels = [i+'  {:.2f}%'.format(j) for i, j in zip(langs, percent)]\n",
    "plt.barh(langs, langs_users_num, color='lightskyblue', edgecolor='blue' )\n",
    "plt.yticks(range(len(langs)), new_labels)\n",
    "plt.show()"
   ]
  },
  {
   "cell_type": "code",
   "execution_count": null,
   "metadata": {},
   "outputs": [],
   "source": []
  },
  {
   "cell_type": "code",
   "execution_count": null,
   "metadata": {},
   "outputs": [],
   "source": []
  },
  {
   "cell_type": "code",
   "execution_count": null,
   "metadata": {},
   "outputs": [],
   "source": []
  },
  {
   "cell_type": "code",
   "execution_count": null,
   "metadata": {},
   "outputs": [],
   "source": []
  },
  {
   "cell_type": "code",
   "execution_count": null,
   "metadata": {},
   "outputs": [],
   "source": []
  },
  {
   "cell_type": "code",
   "execution_count": null,
   "metadata": {},
   "outputs": [],
   "source": []
  }
 ],
 "metadata": {
  "kernelspec": {
   "display_name": "Python 3",
   "language": "python",
   "name": "python3"
  },
  "language_info": {
   "codemirror_mode": {
    "name": "ipython",
    "version": 3
   },
   "file_extension": ".py",
   "mimetype": "text/x-python",
   "name": "python",
   "nbconvert_exporter": "python",
   "pygments_lexer": "ipython3",
   "version": "3.8.5"
  }
 },
 "nbformat": 4,
 "nbformat_minor": 2
}
